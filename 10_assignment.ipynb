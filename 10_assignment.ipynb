{
 "cells": [
  {
   "cell_type": "code",
   "execution_count": 1,
   "id": "25b8679c-fc63-4145-b63d-c06fe555950a",
   "metadata": {},
   "outputs": [],
   "source": [
    "##Q1.>\n",
    "\n",
    "\n",
    "##Ans.>\"open\" Function is used to open a file.r - open a file in read mode. w - opens or create a text file in write mode. a - opens a file in append mode. r+ - opens a file in both read and write mode."
   ]
  },
  {
   "cell_type": "code",
   "execution_count": 2,
   "id": "a84d843c-1611-483e-8cac-4f037ac18ab4",
   "metadata": {},
   "outputs": [],
   "source": [
    "##Q2.>\n",
    "\n",
    "##Ans.>The close() method closes an open file. You should always close your files, in some cases, due to buffering, changes made to a file may not show until you close the file."
   ]
  },
  {
   "cell_type": "code",
   "execution_count": 4,
   "id": "acf310d4-a1a2-4c64-8177-cf5f99e3e9be",
   "metadata": {},
   "outputs": [],
   "source": [
    "##Q3.>\n",
    " \n",
    "f = open(\"text.txt\",'w')\n",
    "\n",
    "\n"
   ]
  },
  {
   "cell_type": "code",
   "execution_count": 5,
   "id": "b50dc7a6-659e-4947-90f5-e8f42e0fd658",
   "metadata": {},
   "outputs": [
    {
     "data": {
      "text/plain": [
       "33"
      ]
     },
     "execution_count": 5,
     "metadata": {},
     "output_type": "execute_result"
    }
   ],
   "source": [
    "f.write(\"i want to become a Data Scientist\")"
   ]
  },
  {
   "cell_type": "code",
   "execution_count": 6,
   "id": "0bb261f5-1bec-49aa-86cc-2ff5449732c4",
   "metadata": {},
   "outputs": [],
   "source": [
    "f.close()"
   ]
  },
  {
   "cell_type": "code",
   "execution_count": 7,
   "id": "863b0f87-a433-4f0e-b0a3-4151a2e15f06",
   "metadata": {},
   "outputs": [],
   "source": [
    "f = open(\"text.txt\",'r')"
   ]
  },
  {
   "cell_type": "code",
   "execution_count": 8,
   "id": "92c28bf3-e8a6-489b-81d9-1770fdd78ba0",
   "metadata": {},
   "outputs": [
    {
     "data": {
      "text/plain": [
       "'i want to become a Data Scientist'"
      ]
     },
     "execution_count": 8,
     "metadata": {},
     "output_type": "execute_result"
    }
   ],
   "source": [
    "f.read()"
   ]
  },
  {
   "cell_type": "code",
   "execution_count": 9,
   "id": "70cc20c5-4a98-4b56-b914-bf379dde9376",
   "metadata": {},
   "outputs": [],
   "source": [
    "##Q4.>\n",
    "\n",
    "##Ans.>What is Python readline()? Python readline() method will return a line from the file when called. readlines() method will return all the lines in a file in the format of a list where each element is a line in the file.\n",
    "\n",
    "f = open(\"text1.txt\",'w')"
   ]
  },
  {
   "cell_type": "code",
   "execution_count": 10,
   "id": "30ab3dd8-c7ba-446c-812e-f5b6f2b5529c",
   "metadata": {},
   "outputs": [
    {
     "data": {
      "text/plain": [
       "218"
      ]
     },
     "execution_count": 10,
     "metadata": {},
     "output_type": "execute_result"
    }
   ],
   "source": [
    "f.write(\"What is Python readline()? Python readline() method will return a line from the file when called. readlines() method will return all the lines in a file in the format of a list where each element is a line in the file.\")"
   ]
  },
  {
   "cell_type": "code",
   "execution_count": 11,
   "id": "97439697-07aa-43ea-853c-7460e1846c68",
   "metadata": {},
   "outputs": [],
   "source": [
    "f.close()"
   ]
  },
  {
   "cell_type": "code",
   "execution_count": 12,
   "id": "d814a912-4601-4d1f-a9dc-f3e573f59c78",
   "metadata": {},
   "outputs": [],
   "source": [
    "f = open(\"text1.txt\",'r')"
   ]
  },
  {
   "cell_type": "code",
   "execution_count": 13,
   "id": "16db31a2-bd94-48e9-84b6-d16edc2b947a",
   "metadata": {},
   "outputs": [
    {
     "data": {
      "text/plain": [
       "'What is Python readline()? Python readline() method will return a line from the file when called. readlines() method will return all the lines in a file in the format of a list where each element is a line in the file.'"
      ]
     },
     "execution_count": 13,
     "metadata": {},
     "output_type": "execute_result"
    }
   ],
   "source": [
    "f.read()"
   ]
  },
  {
   "cell_type": "code",
   "execution_count": 14,
   "id": "86cb3dee-dcd0-4e2f-88d2-9e41d52a9d66",
   "metadata": {},
   "outputs": [
    {
     "data": {
      "text/plain": [
       "0"
      ]
     },
     "execution_count": 14,
     "metadata": {},
     "output_type": "execute_result"
    }
   ],
   "source": [
    "f.seek(0)"
   ]
  },
  {
   "cell_type": "code",
   "execution_count": 15,
   "id": "e3b4627b-d4f6-4a71-9887-182c084f9f29",
   "metadata": {},
   "outputs": [
    {
     "data": {
      "text/plain": [
       "'What is Python readline()? Python readline() method will return a line from the file when called. readlines() method will return all the lines in a file in the format of a list where each element is a line in the file.'"
      ]
     },
     "execution_count": 15,
     "metadata": {},
     "output_type": "execute_result"
    }
   ],
   "source": [
    "f.readline()"
   ]
  },
  {
   "cell_type": "code",
   "execution_count": 17,
   "id": "8a4c5c35-3afa-4f0a-a664-e2acf277b674",
   "metadata": {},
   "outputs": [
    {
     "data": {
      "text/plain": [
       "0"
      ]
     },
     "execution_count": 17,
     "metadata": {},
     "output_type": "execute_result"
    }
   ],
   "source": [
    "f.seek(0)"
   ]
  },
  {
   "cell_type": "code",
   "execution_count": 18,
   "id": "89f9bd8c-c786-4535-b977-810f5268c8e1",
   "metadata": {},
   "outputs": [
    {
     "data": {
      "text/plain": [
       "['What is Python readline()? Python readline() method will return a line from the file when called. readlines() method will return all the lines in a file in the format of a list where each element is a line in the file.']"
      ]
     },
     "execution_count": 18,
     "metadata": {},
     "output_type": "execute_result"
    }
   ],
   "source": [
    "f.readlines()"
   ]
  },
  {
   "cell_type": "code",
   "execution_count": 19,
   "id": "e4c67c34-8d5d-4149-97ae-a21d50a8bb1c",
   "metadata": {},
   "outputs": [],
   "source": [
    "##Q5.>\n",
    "\n",
    "##Ans.>Explain why with statement is used with open(). What is the advantage of using with statement and \n",
    "    ##open() together"
   ]
  },
  {
   "cell_type": "code",
   "execution_count": 29,
   "id": "922b5324-9f4d-451f-b0d8-acc1f523d145",
   "metadata": {},
   "outputs": [
    {
     "name": "stdin",
     "output_type": "stream",
     "text": [
      "the name of colour is: yellow\n",
      "the name of colour is: red\n",
      "the name of colour is: orange\n"
     ]
    },
    {
     "name": "stdout",
     "output_type": "stream",
     "text": [
      "the data is saved in file\n"
     ]
    }
   ],
   "source": [
    "##Q6.>\n",
    "\n",
    "##Ans.>As per the syntax, the string that is passed to the write() function is written into the opened file. The string may include numbers, special characters, or symbols. While writing data to a file, we must know that the write function does not add a newline character(\\n) to the end of the string. The write() function returns None.\n",
    "\n",
    "f = open(\"text2.txt\",'w')\n",
    "for i in range(3):\n",
    "    \n",
    "    name = input(\"the name of colour is:\")\n",
    "    f.write(name)\n",
    "    f.write(\"\\n\")\n",
    "    \n",
    "f.close()\n",
    "\n",
    "print(\"the data is saved in file\")"
   ]
  },
  {
   "cell_type": "code",
   "execution_count": 30,
   "id": "2366aff1-56ea-4a04-a998-bd194df75fba",
   "metadata": {},
   "outputs": [],
   "source": [
    "f = open(\"text2.txt\",'r')"
   ]
  },
  {
   "cell_type": "code",
   "execution_count": 31,
   "id": "fb75bb91-3bf9-4e53-8ec5-a7490c24e9a1",
   "metadata": {},
   "outputs": [
    {
     "data": {
      "text/plain": [
       "'yellow\\nred\\norange\\n'"
      ]
     },
     "execution_count": 31,
     "metadata": {},
     "output_type": "execute_result"
    }
   ],
   "source": [
    "f.read()"
   ]
  },
  {
   "cell_type": "code",
   "execution_count": 1,
   "id": "8ac20438-ced2-41d6-9533-6643a829d3b0",
   "metadata": {},
   "outputs": [
    {
     "name": "stdin",
     "output_type": "stream",
     "text": [
      "the name of colour is: yellow\n",
      "the name of colour is: red\n",
      "the name of colour is: orange\n"
     ]
    },
    {
     "name": "stdout",
     "output_type": "stream",
     "text": [
      "the data is saved in file\n"
     ]
    }
   ],
   "source": [
    "f = open(\"text3.txt\",'w')\n",
    "list1 = []\n",
    "for i in range(3):\n",
    "    \n",
    "    name = input(\"the name of colour is:\")\n",
    "    list1.append(name + '\\n')\n",
    "\n",
    "f.writelines(list1)    \n",
    "f.close()\n",
    "\n",
    "print(\"the data is saved in file\")"
   ]
  },
  {
   "cell_type": "code",
   "execution_count": 2,
   "id": "28576d86-b559-40ad-967c-b3edb628502f",
   "metadata": {},
   "outputs": [],
   "source": [
    "f = open(\"text3.txt\",'r')"
   ]
  },
  {
   "cell_type": "code",
   "execution_count": 3,
   "id": "5d012064-ef1b-45d7-a96a-f491055cf3ca",
   "metadata": {},
   "outputs": [
    {
     "data": {
      "text/plain": [
       "'yellow\\nred\\norange\\n'"
      ]
     },
     "execution_count": 3,
     "metadata": {},
     "output_type": "execute_result"
    }
   ],
   "source": [
    "f.read()"
   ]
  },
  {
   "cell_type": "code",
   "execution_count": null,
   "id": "cda63afd-b142-472a-a493-51bb3b4103e7",
   "metadata": {},
   "outputs": [],
   "source": []
  }
 ],
 "metadata": {
  "kernelspec": {
   "display_name": "Python 3 (ipykernel)",
   "language": "python",
   "name": "python3"
  },
  "language_info": {
   "codemirror_mode": {
    "name": "ipython",
    "version": 3
   },
   "file_extension": ".py",
   "mimetype": "text/x-python",
   "name": "python",
   "nbconvert_exporter": "python",
   "pygments_lexer": "ipython3",
   "version": "3.10.8"
  }
 },
 "nbformat": 4,
 "nbformat_minor": 5
}
